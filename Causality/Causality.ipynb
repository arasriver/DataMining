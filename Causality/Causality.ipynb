{
  "nbformat": 4,
  "nbformat_minor": 0,
  "metadata": {
    "colab": {
      "provenance": []
    },
    "kernelspec": {
      "name": "python3",
      "display_name": "Python 3"
    },
    "language_info": {
      "name": "python"
    }
  },
  "cells": [
    {
      "cell_type": "markdown",
      "source": [
        "## Auto Regression for X(Egg) and Y(Chicken)"
      ],
      "metadata": {
        "id": "Ypfw9iW1Zk61"
      }
    },
    {
      "cell_type": "code",
      "execution_count": 1,
      "metadata": {
        "colab": {
          "base_uri": "https://localhost:8080/"
        },
        "id": "j1tRkuILbv2-",
        "outputId": "ebc73346-4444-4b6e-b75c-5e042fa8b565"
      },
      "outputs": [
        {
          "output_type": "stream",
          "name": "stdout",
          "text": [
            "Estimated coefficients (β): [ 1.20111885e+05 -6.90430740e-02  1.01396054e+02]\n",
            "||e||_2^2 (RSS) with eggs: 1023104023.6108687\n"
          ]
        }
      ],
      "source": [
        "import numpy as np\n",
        "\n",
        "data = {\n",
        "    \"year\": [1930, 1931, 1932, 1933, 1934, 1935],\n",
        "    \"chicken\": [468491, 449743, 436815, 444523, 433937, 389958],\n",
        "    \"egg\": [3581, 3532, 3327, 3255, 3156, 3081],\n",
        "}\n",
        "\n",
        "# Lagged dataset\n",
        "Y = np.array(data[\"chicken\"][1:])\n",
        "Y_lag = np.array(data[\"chicken\"][:-1])\n",
        "X_lag = np.array(data[\"egg\"][:-1])\n",
        "\n",
        "# Design matrix\n",
        "X_with_egg = np.column_stack((np.ones(len(Y_lag)), Y_lag, X_lag))\n",
        "\n",
        "# Coefficients, OLS formula accoding to the question\n",
        "beta_with_egg = np.linalg.inv(X_with_egg.T @ X_with_egg) @ (X_with_egg.T @ Y)\n",
        "\n",
        "residuals_with_egg = Y - X_with_egg @ beta_with_egg\n",
        "\n",
        "# Calculate ||e||_2^2 (RSS or squared residual norm)\n",
        "norm_e_squared = np.sum(residuals_with_egg ** 2)\n",
        "\n",
        "print(\"Estimated coefficients (β):\", beta_with_egg)\n",
        "print(\"||e||_2^2 (RSS) with eggs:\", norm_e_squared)\n"
      ]
    },
    {
      "cell_type": "markdown",
      "source": [
        "##Auto Regression without Y"
      ],
      "metadata": {
        "id": "dLJV8HkOZjue"
      }
    },
    {
      "cell_type": "code",
      "source": [
        "import numpy as np\n",
        "\n",
        "data = {\n",
        "    \"year\": [1930, 1931, 1932, 1933, 1934, 1935],\n",
        "    \"chicken\": [468491, 449743, 436815, 444523, 433937, 389958],\n",
        "    \"egg\": [3581, 3532, 3327, 3255, 3156, 3081],\n",
        "}\n",
        "Y = np.array(data[\"chicken\"][1:])\n",
        "Y_lag = np.array(data[\"chicken\"][:-1])\n",
        "#Design matrix without eggs\n",
        "X_without_egg = np.column_stack((np.ones(len(Y_lag)), Y_lag))\n",
        "\n",
        "# Coefficients using OLS\n",
        "beta_without_egg = np.linalg.inv(X_without_egg.T @ X_without_egg) @ (X_without_egg.T @ Y)\n",
        "\n",
        "residuals_without_egg = Y - X_without_egg @ beta_without_egg\n",
        "\n",
        "# Calculate ||e||_2^2 (RSS2 or squared residual norm)\n",
        "RSS2 = np.sum(residuals_without_egg ** 2)\n",
        "\n",
        "print(\"RSS2 (Auto-regression without eggs):\", RSS2)\n",
        "print(\"Coefficients (β0, β1):\", beta_without_egg)\n"
      ],
      "metadata": {
        "colab": {
          "base_uri": "https://localhost:8080/"
        },
        "id": "kBqwDzLNbwiv",
        "outputId": "02273651-2bb8-4c65-b96d-795501025897"
      },
      "execution_count": 2,
      "outputs": [
        {
          "output_type": "stream",
          "name": "stdout",
          "text": [
            "RSS2 (Auto-regression without eggs): 1385892406.5564857\n",
            "Coefficients (β0, β1): [-5.17190470e+04  1.08061854e+00]\n"
          ]
        }
      ]
    },
    {
      "cell_type": "markdown",
      "source": [
        "#Statistical Test"
      ],
      "metadata": {
        "id": "G918kThEZuZH"
      }
    },
    {
      "cell_type": "code",
      "source": [
        "import numpy as np\n",
        "import scipy.stats as stats\n",
        "\n",
        "data = {\n",
        "    \"year\": [1930, 1931, 1932, 1933, 1934, 1935],\n",
        "    \"chicken\": [468491, 449743, 436815, 444523, 433937, 389958],\n",
        "    \"egg\": [3581, 3532, 3327, 3255, 3156, 3081],\n",
        "}\n",
        "\n",
        "Y = np.array(data[\"chicken\"][1:])\n",
        "Y_lag = np.array(data[\"chicken\"][:-1])\n",
        "X_lag = np.array(data[\"egg\"][:-1])\n",
        "\n",
        "# Design matrix with eggs\n",
        "X_with_egg = np.column_stack((np.ones(len(Y_lag)), Y_lag, X_lag))\n",
        "\n",
        "# Design matrix without eggs\n",
        "X_without_egg = np.column_stack((np.ones(len(Y_lag)), Y_lag))\n",
        "\n",
        "# Compute coefficients using OLS\n",
        "beta_with_egg = np.linalg.inv(X_with_egg.T @ X_with_egg) @ (X_with_egg.T @ Y)\n",
        "beta_without_egg = np.linalg.inv(X_without_egg.T @ X_without_egg) @ (X_without_egg.T @ Y)\n",
        "\n",
        "#RSS\n",
        "residuals_with_egg = Y - X_with_egg @ beta_with_egg\n",
        "residuals_without_egg = Y - X_without_egg @ beta_without_egg\n",
        "\n",
        "RSS_with_egg = np.sum(residuals_with_egg ** 2)\n",
        "RSS_without_egg = np.sum(residuals_without_egg ** 2)\n",
        "\n",
        "# Compute the F-statistic\n",
        "n = len(Y)\n",
        "d = 1\n",
        "F_stat = ((RSS_without_egg - RSS_with_egg) / d) / (RSS_with_egg / (n - 2 * d))\n",
        "\n",
        "# Critical value for F-distribution with alpha = 0.05\n",
        "alpha = 0.05\n",
        "critical_value = stats.f.ppf(1 - alpha, d, n - 2 * d)\n",
        "\n",
        "print(\"F-statistic:\", F_stat)\n",
        "print(\"Critical F-value at alpha = 0.05:\", critical_value)\n",
        "\n",
        "# Interpret of the result\n",
        "if F_stat > critical_value:\n",
        "    print(\"Reject the null hypothesis, we can say egg causes chicken.\")\n",
        "else:\n",
        "    print(\"Fail to reject the null hypothesis, we have no evidence that egg causes chicken.\")\n"
      ],
      "metadata": {
        "colab": {
          "base_uri": "https://localhost:8080/"
        },
        "id": "khO-SP3UdTfH",
        "outputId": "6d79dfed-77ab-4e4b-dd5c-a00ffeb2e02d"
      },
      "execution_count": 3,
      "outputs": [
        {
          "output_type": "stream",
          "name": "stdout",
          "text": [
            "F-statistic: 1.0637873800903004\n",
            "Critical F-value at alpha = 0.05: 10.127964486013928\n",
            "Fail to reject the null hypothesis, we have no evidence that egg causes chicken.\n"
          ]
        }
      ]
    },
    {
      "cell_type": "markdown",
      "source": [
        "##Causal Test for direction from Chicken to Eggs"
      ],
      "metadata": {
        "id": "w6W62iakZxz9"
      }
    },
    {
      "cell_type": "code",
      "source": [
        "import numpy as np\n",
        "import scipy.stats as stats\n",
        "\n",
        "#Data\n",
        "data = {\n",
        "    \"year\": [1930, 1931, 1932, 1933, 1934, 1935],\n",
        "    \"chicken\": [468491, 449743, 436815, 444523, 433937, 389958],\n",
        "    \"egg\": [3581, 3532, 3327, 3255, 3156, 3081],\n",
        "}\n",
        "\n",
        "# Create lagged datasets for Granger causality test\n",
        "Y = np.array(data[\"egg\"][1:])\n",
        "Y_lag = np.array(data[\"egg\"][:-1])\n",
        "X_lag = np.array(data[\"chicken\"][:-1])\n",
        "\n",
        "# Design matrix with chicken\n",
        "X_with_chicken = np.column_stack((np.ones(len(Y_lag)), Y_lag, X_lag))\n",
        "\n",
        "# Design matrix without chicken\n",
        "X_without_chicken = np.column_stack((np.ones(len(Y_lag)), Y_lag))\n",
        "\n",
        "# Compute coefficients using OLS\n",
        "beta_with_chicken = np.linalg.inv(X_with_chicken.T @ X_with_chicken) @ (X_with_chicken.T @ Y)\n",
        "beta_without_chicken = np.linalg.inv(X_without_chicken.T @ X_without_chicken) @ (X_without_chicken.T @ Y)\n",
        "\n",
        "# Calculate residuals and RSS\n",
        "residuals_with_chicken = Y - X_with_chicken @ beta_with_chicken\n",
        "residuals_without_chicken = Y - X_without_chicken @ beta_without_chicken\n",
        "\n",
        "RSS_with_chicken = np.sum(residuals_with_chicken ** 2)\n",
        "RSS_without_chicken = np.sum(residuals_without_chicken ** 2)\n",
        "\n",
        "# Compute F-statistic\n",
        "n = len(Y)\n",
        "d = 1\n",
        "F_stat = ((RSS_without_chicken - RSS_with_chicken) / d) / (RSS_with_chicken / (n - 2 * d))\n",
        "\n",
        "# Critical value for F-distribution with alpha = 0.05\n",
        "alpha = 0.05\n",
        "critical_value = stats.f.ppf(1 - alpha, d, n - 2 * d)\n",
        "\n",
        "print(\"F-statistic:\", F_stat)\n",
        "print(\"Critical F-value at alpha = 0.05:\", critical_value)\n",
        "\n",
        "if F_stat > critical_value:\n",
        "    print(\"Reject the null hypothesis: Chicken causes eggs.\")\n",
        "else:\n",
        "    print(\"Fail to reject the null hypothesis: No evidence that chicken causes eggs.\")\n"
      ],
      "metadata": {
        "colab": {
          "base_uri": "https://localhost:8080/"
        },
        "id": "Y6XXe0Iqd1Le",
        "outputId": "56452dd3-0664-44b2-dfc4-93b41d3f7abd"
      },
      "execution_count": 4,
      "outputs": [
        {
          "output_type": "stream",
          "name": "stdout",
          "text": [
            "F-statistic: 1.8530306411369108\n",
            "Critical F-value at alpha = 0.05: 10.127964486013928\n",
            "Fail to reject the null hypothesis: No evidence that chicken causes eggs.\n"
          ]
        }
      ]
    },
    {
      "cell_type": "code",
      "source": [
        "\n"
      ],
      "metadata": {
        "id": "lWe_erHtXE7L"
      },
      "execution_count": 26,
      "outputs": []
    }
  ]
}