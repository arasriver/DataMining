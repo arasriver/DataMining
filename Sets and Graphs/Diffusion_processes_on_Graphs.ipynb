{
  "nbformat": 4,
  "nbformat_minor": 0,
  "metadata": {
    "colab": {
      "provenance": []
    },
    "kernelspec": {
      "name": "python3",
      "display_name": "Python 3"
    },
    "language_info": {
      "name": "python"
    }
  },
  "cells": [
    {
      "cell_type": "markdown",
      "source": [
        "# Exercise 5_1"
      ],
      "metadata": {
        "id": "3ueYdpcnq2o_"
      }
    },
    {
      "cell_type": "markdown",
      "source": [
        "#a) Create a random graph, using Barabasi Model"
      ],
      "metadata": {
        "id": "diDPXBqJq6VV"
      }
    },
    {
      "cell_type": "code",
      "execution_count": null,
      "metadata": {
        "colab": {
          "base_uri": "https://localhost:8080/"
        },
        "id": "Fjf6wpGUnllI",
        "outputId": "4ecc8ad1-a5d9-481f-a983-2cc6da3cb4f0"
      },
      "outputs": [
        {
          "output_type": "stream",
          "name": "stdout",
          "text": [
            "Number of nodes: 100\n",
            "Number of edges: 291\n",
            "Model used: Barabasi–Albert\n"
          ]
        }
      ],
      "source": [
        "import networkx as nx\n",
        "\n",
        "#Unweighted, Undirected random graph, with Barabasi–Albert model\n",
        "nodes = 100\n",
        "m = 3 #Number of edges to attach from a new node to existing nodes according to Barabasi Graph\n",
        "G = nx.barabasi_albert_graph(nodes, m)\n",
        "\n",
        "#Report\n",
        "num_nodes = G.number_of_nodes()\n",
        "num_edges = G.number_of_edges()\n",
        "\n",
        "print(f\"Number of nodes: {num_nodes}\")\n",
        "print(f\"Number of edges: {num_edges}\")\n",
        "print(\"Model used: Barabasi–Albert\")\n"
      ]
    },
    {
      "cell_type": "markdown",
      "source": [
        "# b) Computing ranking of the Nodes"
      ],
      "metadata": {
        "id": "Ttp-knX6q88d"
      }
    },
    {
      "cell_type": "code",
      "source": [
        "#Calculating centrality according to this link : https://networkx.org/documentation/stable/reference/algorithms/centrality.html\n",
        "degree_centrality = nx.degree_centrality(G)\n",
        "closeness_centrality = nx.closeness_centrality(G)\n",
        "betweenness_centrality = nx.betweenness_centrality(G, k=None, normalized=True, weight=None, endpoints=False, seed=None)\n",
        "harmonic_centrality = nx.harmonic_centrality(G, nbunch=None, distance=None, sources=None)\n",
        "\n",
        "#Sorting nodes in descending format\n",
        "sorted_betweenness = sorted(betweenness_centrality.items(), key=lambda x:x[1], reverse=True)\n",
        "sorted_closeness = sorted(closeness_centrality.items(), key=lambda x:x[1], reverse=True)\n",
        "sorted_degree = sorted(degree_centrality.items(), key=lambda x:x[1], reverse=True)\n",
        "sorted_harmonic = sorted(harmonic_centrality.items(), key=lambda x:x[1], reverse=True)\n",
        "\n",
        "#Print top 5 nodes for each measure\n",
        "print(\"Top 5 nodes by Betweenness Centrality:\")\n",
        "for node, value in sorted_betweenness[:5]:\n",
        "    print(f\"Node {node}: {value:.4f}\")\n",
        "\n",
        "print(\"\\nTop 5 nodes by Closeness Centrality:\")\n",
        "for node, value in sorted_closeness[:5]:\n",
        "    print(f\"Node {node}: {value:.4f}\")\n",
        "\n",
        "print(\"\\nTop 5 nodes by Degree Centrality:\")\n",
        "for node, value in sorted_degree[:5]:\n",
        "    print(f\"Node {node}: {value:.4f}\")\n",
        "\n",
        "print(\"\\nTop 5 nodes by Harmonic Centrality:\")\n",
        "for node, value in sorted_harmonic[:5]:\n",
        "    print(f\"Node {node}: {value:.4f}\")"
      ],
      "metadata": {
        "colab": {
          "base_uri": "https://localhost:8080/"
        },
        "id": "yqjtDm-9q-n1",
        "outputId": "f9841705-80c4-4017-ed04-0548526b0088"
      },
      "execution_count": null,
      "outputs": [
        {
          "output_type": "stream",
          "name": "stdout",
          "text": [
            "Top 5 nodes by Betweenness Centrality:\n",
            "Node 0: 0.1930\n",
            "Node 4: 0.1369\n",
            "Node 2: 0.1185\n",
            "Node 11: 0.0997\n",
            "Node 8: 0.0893\n",
            "\n",
            "Top 5 nodes by Closeness Centrality:\n",
            "Node 0: 0.5440\n",
            "Node 2: 0.5238\n",
            "Node 4: 0.5130\n",
            "Node 8: 0.4760\n",
            "Node 1: 0.4692\n",
            "\n",
            "Top 5 nodes by Degree Centrality:\n",
            "Node 0: 0.2727\n",
            "Node 4: 0.2121\n",
            "Node 2: 0.2020\n",
            "Node 11: 0.1818\n",
            "Node 8: 0.1717\n",
            "\n",
            "Top 5 nodes by Harmonic Centrality:\n",
            "Node 0: 61.1667\n",
            "Node 2: 57.6667\n",
            "Node 4: 57.3333\n",
            "Node 8: 53.5000\n",
            "Node 11: 52.8333\n"
          ]
        }
      ]
    },
    {
      "cell_type": "markdown",
      "source": [
        "# c) Simulating diffusion process"
      ],
      "metadata": {
        "id": "BwuqPJxduX23"
      }
    },
    {
      "cell_type": "code",
      "source": [
        "import random\n",
        "import networkx as nx\n",
        "\n",
        "# Parameters\n",
        "p = 0.5  # Uniform edge activation probability\n",
        "R = 100  # Number of samples\n",
        "\n",
        "# Simulate the diffusion process\n",
        "def independent_cascade(G, S, p, R):\n",
        "    total_active = 0\n",
        "\n",
        "    for _ in range(R):\n",
        "        # Create live-edge graph by randomly activating edges\n",
        "        live_edges = [(u, v) for u, v in G.edges() if random.random() < p]\n",
        "        live_graph = nx.DiGraph(live_edges)\n",
        "\n",
        "        active = set(S)  # Seed set\n",
        "        new_active = set(S)  # Nodes activated in the current step\n",
        "\n",
        "        while new_active:\n",
        "            next_new_active = set()\n",
        "            for u in new_active:\n",
        "                for v in live_graph.successors(u):  # Get neighbors of u in the live edge graph\n",
        "                    if v not in active:\n",
        "                        active.add(v)\n",
        "                        next_new_active.add(v)\n",
        "            new_active = next_new_active\n",
        "\n",
        "        #Add the number of active nodes to the total\n",
        "        total_active += len(active)\n",
        "\n",
        "    #Expected number of active nodes\n",
        "    sigma_S = total_active / R\n",
        "    return sigma_S\n",
        "\n",
        "#Define seed nodes (top 5 by degree centrality)\n",
        "S = [node for node, _ in sorted_degree[:5]]  #Top 5 nodes by degree centrality\n",
        "\n",
        "#Run the simulation\n",
        "sigma_S = independent_cascade(G, S, p, R)\n",
        "\n",
        "# Output results\n",
        "print(\"Seed set S (top 5 nodes):\", S)\n",
        "print(\"Expected number of active nodes sigma(S):\", sigma_S)\n"
      ],
      "metadata": {
        "colab": {
          "base_uri": "https://localhost:8080/"
        },
        "id": "G07AOxTV5bV5",
        "outputId": "13289283-20ba-43f4-b596-a61c7a13cfe1"
      },
      "execution_count": null,
      "outputs": [
        {
          "output_type": "stream",
          "name": "stdout",
          "text": [
            "Seed set S (top 5 nodes): [0, 5, 3, 4, 9]\n",
            "Expected number of active nodes sigma(S): 81.81\n"
          ]
        }
      ]
    },
    {
      "cell_type": "markdown",
      "source": [
        "#d) Computing ranking of the nodes"
      ],
      "metadata": {
        "id": "krKnTUSCKdNB"
      }
    },
    {
      "cell_type": "code",
      "source": [
        "#Dictionary to store sigma(S)\n",
        "sigma_values = {}\n",
        "\n",
        "#Compute sigma(S) in the graph\n",
        "for u in G.nodes():\n",
        "    S = {u}\n",
        "    sigma_S = independent_cascade(G, S, p, R)\n",
        "    sigma_values[u] = sigma_S\n",
        "\n",
        "#Sort nodes by sigma(S) in descending order\n",
        "sorted_nodes = sorted(sigma_values.items(), key=lambda x: x[1], reverse=True)\n",
        "\n",
        "print(\"Ranking of nodes:\")\n",
        "for rank, (node, sigma_S) in enumerate(sorted_nodes, start=1):\n",
        "    print(f\"Rank {rank}: Node {node} with sigma(S) = {sigma_S:.2f}\")"
      ],
      "metadata": {
        "colab": {
          "base_uri": "https://localhost:8080/"
        },
        "id": "_OrbSKpvzPOi",
        "outputId": "0ffc8456-1fb3-459e-9202-9ca8112e4394"
      },
      "execution_count": null,
      "outputs": [
        {
          "output_type": "stream",
          "name": "stdout",
          "text": [
            "Ranking of nodes:\n",
            "Rank 1: Node 0 with sigma(S) = 24.26\n",
            "Rank 2: Node 4 with sigma(S) = 12.75\n",
            "Rank 3: Node 5 with sigma(S) = 12.62\n",
            "Rank 4: Node 3 with sigma(S) = 12.09\n",
            "Rank 5: Node 1 with sigma(S) = 11.53\n",
            "Rank 6: Node 6 with sigma(S) = 7.90\n",
            "Rank 7: Node 9 with sigma(S) = 7.72\n",
            "Rank 8: Node 13 with sigma(S) = 5.77\n",
            "Rank 9: Node 2 with sigma(S) = 5.47\n",
            "Rank 10: Node 16 with sigma(S) = 5.45\n",
            "Rank 11: Node 19 with sigma(S) = 5.07\n",
            "Rank 12: Node 7 with sigma(S) = 4.35\n",
            "Rank 13: Node 14 with sigma(S) = 4.16\n",
            "Rank 14: Node 12 with sigma(S) = 3.49\n",
            "Rank 15: Node 11 with sigma(S) = 3.43\n",
            "Rank 16: Node 8 with sigma(S) = 3.18\n",
            "Rank 17: Node 27 with sigma(S) = 2.81\n",
            "Rank 18: Node 32 with sigma(S) = 2.75\n",
            "Rank 19: Node 38 with sigma(S) = 2.52\n",
            "Rank 20: Node 23 with sigma(S) = 2.50\n",
            "Rank 21: Node 33 with sigma(S) = 2.43\n",
            "Rank 22: Node 56 with sigma(S) = 2.31\n",
            "Rank 23: Node 46 with sigma(S) = 2.20\n",
            "Rank 24: Node 34 with sigma(S) = 2.08\n",
            "Rank 25: Node 31 with sigma(S) = 1.97\n",
            "Rank 26: Node 15 with sigma(S) = 1.92\n",
            "Rank 27: Node 21 with sigma(S) = 1.79\n",
            "Rank 28: Node 17 with sigma(S) = 1.78\n",
            "Rank 29: Node 24 with sigma(S) = 1.73\n",
            "Rank 30: Node 25 with sigma(S) = 1.68\n",
            "Rank 31: Node 39 with sigma(S) = 1.59\n",
            "Rank 32: Node 77 with sigma(S) = 1.57\n",
            "Rank 33: Node 43 with sigma(S) = 1.55\n",
            "Rank 34: Node 28 with sigma(S) = 1.54\n",
            "Rank 35: Node 41 with sigma(S) = 1.53\n",
            "Rank 36: Node 22 with sigma(S) = 1.52\n",
            "Rank 37: Node 26 with sigma(S) = 1.49\n",
            "Rank 38: Node 51 with sigma(S) = 1.48\n",
            "Rank 39: Node 71 with sigma(S) = 1.48\n",
            "Rank 40: Node 54 with sigma(S) = 1.47\n",
            "Rank 41: Node 20 with sigma(S) = 1.43\n",
            "Rank 42: Node 37 with sigma(S) = 1.42\n",
            "Rank 43: Node 42 with sigma(S) = 1.42\n",
            "Rank 44: Node 58 with sigma(S) = 1.40\n",
            "Rank 45: Node 59 with sigma(S) = 1.38\n",
            "Rank 46: Node 50 with sigma(S) = 1.34\n",
            "Rank 47: Node 47 with sigma(S) = 1.30\n",
            "Rank 48: Node 29 with sigma(S) = 1.28\n",
            "Rank 49: Node 67 with sigma(S) = 1.27\n",
            "Rank 50: Node 70 with sigma(S) = 1.26\n",
            "Rank 51: Node 10 with sigma(S) = 1.25\n",
            "Rank 52: Node 45 with sigma(S) = 1.25\n",
            "Rank 53: Node 85 with sigma(S) = 1.25\n",
            "Rank 54: Node 48 with sigma(S) = 1.24\n",
            "Rank 55: Node 61 with sigma(S) = 1.24\n",
            "Rank 56: Node 68 with sigma(S) = 1.24\n",
            "Rank 57: Node 63 with sigma(S) = 1.21\n",
            "Rank 58: Node 53 with sigma(S) = 1.20\n",
            "Rank 59: Node 79 with sigma(S) = 1.20\n",
            "Rank 60: Node 52 with sigma(S) = 1.18\n",
            "Rank 61: Node 18 with sigma(S) = 1.00\n",
            "Rank 62: Node 30 with sigma(S) = 1.00\n",
            "Rank 63: Node 35 with sigma(S) = 1.00\n",
            "Rank 64: Node 36 with sigma(S) = 1.00\n",
            "Rank 65: Node 40 with sigma(S) = 1.00\n",
            "Rank 66: Node 44 with sigma(S) = 1.00\n",
            "Rank 67: Node 49 with sigma(S) = 1.00\n",
            "Rank 68: Node 55 with sigma(S) = 1.00\n",
            "Rank 69: Node 57 with sigma(S) = 1.00\n",
            "Rank 70: Node 60 with sigma(S) = 1.00\n",
            "Rank 71: Node 62 with sigma(S) = 1.00\n",
            "Rank 72: Node 64 with sigma(S) = 1.00\n",
            "Rank 73: Node 65 with sigma(S) = 1.00\n",
            "Rank 74: Node 66 with sigma(S) = 1.00\n",
            "Rank 75: Node 69 with sigma(S) = 1.00\n",
            "Rank 76: Node 72 with sigma(S) = 1.00\n",
            "Rank 77: Node 73 with sigma(S) = 1.00\n",
            "Rank 78: Node 74 with sigma(S) = 1.00\n",
            "Rank 79: Node 75 with sigma(S) = 1.00\n",
            "Rank 80: Node 76 with sigma(S) = 1.00\n",
            "Rank 81: Node 78 with sigma(S) = 1.00\n",
            "Rank 82: Node 80 with sigma(S) = 1.00\n",
            "Rank 83: Node 81 with sigma(S) = 1.00\n",
            "Rank 84: Node 82 with sigma(S) = 1.00\n",
            "Rank 85: Node 83 with sigma(S) = 1.00\n",
            "Rank 86: Node 84 with sigma(S) = 1.00\n",
            "Rank 87: Node 86 with sigma(S) = 1.00\n",
            "Rank 88: Node 87 with sigma(S) = 1.00\n",
            "Rank 89: Node 88 with sigma(S) = 1.00\n",
            "Rank 90: Node 89 with sigma(S) = 1.00\n",
            "Rank 91: Node 90 with sigma(S) = 1.00\n",
            "Rank 92: Node 91 with sigma(S) = 1.00\n",
            "Rank 93: Node 92 with sigma(S) = 1.00\n",
            "Rank 94: Node 93 with sigma(S) = 1.00\n",
            "Rank 95: Node 94 with sigma(S) = 1.00\n",
            "Rank 96: Node 95 with sigma(S) = 1.00\n",
            "Rank 97: Node 96 with sigma(S) = 1.00\n",
            "Rank 98: Node 97 with sigma(S) = 1.00\n",
            "Rank 99: Node 98 with sigma(S) = 1.00\n",
            "Rank 100: Node 99 with sigma(S) = 1.00\n"
          ]
        }
      ]
    },
    {
      "cell_type": "markdown",
      "source": [
        "#e) Similarity of the rankings"
      ],
      "metadata": {
        "id": "Jcsw5ZFGMHcn"
      }
    },
    {
      "cell_type": "code",
      "source": [
        "from scipy.stats import kendalltau, spearmanr\n",
        "\n",
        "#Sorted nodes is the ranking based on sigma(S)\n",
        "influence_ranking = [node for node, _ in sorted_nodes]\n",
        "\n",
        "#Extract centrality rankings from part b\n",
        "degree_ranking = [node for node, _ in sorted_degree]\n",
        "betweenness_ranking = [node for node, _ in sorted_betweenness]\n",
        "closeness_ranking = [node for node, _ in sorted_closeness]\n",
        "harmonic_ranking = [node for node, _ in sorted_harmonic]\n",
        "\n",
        "#Compute similarity between two rankings\n",
        "def compute_similarity(ranking1, ranking2, measure_name):\n",
        "    kendall_tau, _ = kendalltau(ranking1, ranking2)\n",
        "    spearman, _ = spearmanr(ranking1, ranking2)\n",
        "    print(f\"\\nSimilarity with {measure_name}:\")\n",
        "    print(\"Kendall's Tau:\", kendall_tau)\n",
        "    print(\"Spearman's Rank Correlation Coefficient:\", spearman)\n",
        "\n",
        "compute_similarity(degree_ranking, influence_ranking, \"Degree Centrality\")\n",
        "compute_similarity(betweenness_ranking, influence_ranking, \"Betweenness Centrality\")\n",
        "compute_similarity(closeness_ranking, influence_ranking, \"Closeness Centrality\")\n",
        "compute_similarity(harmonic_ranking, influence_ranking, \"Harmonic Centrality\")"
      ],
      "metadata": {
        "colab": {
          "base_uri": "https://localhost:8080/"
        },
        "id": "ivnrqnXRMIsd",
        "outputId": "75121117-62e5-4a87-8c77-7ebc8468f279"
      },
      "execution_count": null,
      "outputs": [
        {
          "output_type": "stream",
          "name": "stdout",
          "text": [
            "\n",
            "Similarity with Degree Centrality:\n",
            "Kendall's Tau: 0.7705050505050506\n",
            "Spearman's Rank Correlation Coefficient: 0.9003780378037802\n",
            "\n",
            "Similarity with Betweenness Centrality:\n",
            "Kendall's Tau: 0.47717171717171725\n",
            "Spearman's Rank Correlation Coefficient: 0.65006900690069\n",
            "\n",
            "Similarity with Closeness Centrality:\n",
            "Kendall's Tau: 0.4759595959595961\n",
            "Spearman's Rank Correlation Coefficient: 0.6355355535553555\n",
            "\n",
            "Similarity with Harmonic Centrality:\n",
            "Kendall's Tau: 0.492929292929293\n",
            "Spearman's Rank Correlation Coefficient: 0.6679747974797479\n"
          ]
        }
      ]
    },
    {
      "cell_type": "markdown",
      "source": [
        "#Findings:\n",
        "### For degree centrality, there is positive correlation between degree centrality and influence. Of course nodes with high degree cenrality wants to have high influence in the diffusion process.\n",
        "\n",
        "###For betweenness, correlation with influence is not high. But still positive. Betweenness play role of bridge, it seems they are still important.\n",
        "\n",
        "### Closeness has weak correlation with influence in compare with harmonic. Maybe because harmonic is more flexible and better shows closeness of different nodes.\n"
      ],
      "metadata": {
        "id": "S06Ls8KfhTnN"
      }
    },
    {
      "cell_type": "code",
      "source": [],
      "metadata": {
        "id": "o-AwdYV4mULD"
      },
      "execution_count": null,
      "outputs": []
    }
  ]
}